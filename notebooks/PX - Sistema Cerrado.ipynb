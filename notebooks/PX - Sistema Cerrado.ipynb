{
 "cells": [
  {
   "cell_type": "markdown",
   "metadata": {},
   "source": [
    "# Problema X Termodinámica\n",
    "\n",
    "### Definición de los sistemas y entorno \n",
    "Se tiene un sistema cerrado formado por un globo de goma elástica lleno de hidrógeno. \n",
    "El sistema de hidrógeno encerrado por el globo (sistema $h$ en lo sucesivo) está envuelto por aire en condiciones ambiente. El aire de este entorno está encerrado por un cilindro ($c$) con émbolo ($E$), conformando otro sistema cerrado. El sistema de aire (sistema $a$ en lo sucesivo) y el sistema $h$ de su interior, se encuentran rodeados por una atmósfera de aire de condiciones conocidas."
   ]
  },
  {
   "cell_type": "markdown",
   "metadata": {},
   "source": [
    "### Datos Geométricos y Estructurales conocidos\n",
    "- **Fronteras del Sistema $a$ **\n",
    "    - Cilindro ($c$):\n",
    "        - $L_0=30cm$ (altura total del cilindro)\n",
    "        - $\\phi_c=20cm$ (diámetro total del cilindro)\n",
    "        - Cilindro perfecto, indeformable y sin rozamiento con el émbolo\n",
    "        - El cilindro es perfectamente diatérmano\n",
    "    - Émbolo ($e$):\n",
    "        - Espesor despreciable ($\\delta_e\\approx0$)\n",
    "        - $\\phi_e=20cm=\\phi_c$ (diámetro total del émbolo)\n",
    "        - Émbolo perfecto, sin rozamiento e indeformable, que encaja perfectamente en el cilindro\n",
    "        - El émbolo es perfectamente diatérmano\n",
    "        - El émbolo tiene una masa $m_e$ desconocida\n",
    "- ** Fronteras del Sistema $h$**\n",
    "    - El material elástico del que está hecho el globo tiene una masa de $m_g=2g$\n",
    "    - La masa de globo $m_g$ ocupa un volumen despreciable\n",
    "    - El globo de goma tiene un diámetro mínimo $\\phi_{h_0}$ hasta el cual no se aplica sobrepresión alguna en su interior. A partir de ahí se sigue una relación lineal (ley elástica) tal que por cada centímetro de variación de diámetro se requieren 15 mmHg de sobrepresión: $$\\Delta P=k·(\\phi_{h_1}-\\phi_{h_0}) $$ Donde\n",
    "        - $\\phi_{h_0}=5 cm \\equiv$ Diámetro mínimo\n",
    "        - $\\phi_{h_1}=15cm \\equiv$ Diámetro inicial\n",
    "        - $k=15 \\frac {mmHg}{cm} \\equiv$ Constante Elástica\n",
    "   <img src='./static/figure_elasticlaw.png' alt=\"Drawing\" style=\"width: 350px;\"/>\n",
    "    - El globo se considera perfectamente diatérmano\n",
    "    - En todo momento consideraremos que el globo es esférico e indeformable, de diámetro variable\n"
   ]
  },
  {
   "cell_type": "markdown",
   "metadata": {},
   "source": [
    "### Datos Termodinámicos y Propiedades Termodinámicas Iniciales\n",
    "- **Entorno:**\n",
    "    - Atmósfera de aire, ideal\n",
    "        - Temperatura inicial: $T_\\infty=15ºC$\n",
    "        - Presión inicial: $P_\\infty=1bar$\n",
    "- **Sistema $a$:**\n",
    "    - Aire en condiciones atmósfericas inicialmente\n",
    "    - Émbolo a distancia $L_1 = L_0$ de la base del cilindro inicialmente\n",
    "- **Sistema $h$:**\n",
    "    - Globo con diámetro $\\phi_{h_1}$ inicialmente\n",
    "- **Propiedades termodinámicas y constantes**:        \n",
    "    - Aire como gas ideal:\n",
    "        - Se asume aire compuesto al $78\\% N_2$ y $22\\% O_2$\n",
    "        - Masas moleculares disponibles: $M_N=14 \\frac{g}{mol}$ y $M_O=16 \\frac{g}{mol}$\n",
    "        - Coeficiente de dilatación adiabático: $\\gamma_a=1.4$\n",
    "    - Hidrógeno como gas ideal:\n",
    "        - Masa molecular del hidrógeno: $M_H=1 \\frac{g}{mol}$\n",
    "        - Coeficiente de dilatación adiabático: $\\gamma_h=1.411$\n",
    "    - Constante universal de los gases ideales: $\\overline{R}=8.3114 \\frac{J}{mol·K}$"
   ]
  },
  {
   "cell_type": "markdown",
   "metadata": {},
   "source": [
    "### Proceso Termodinámico y Apartados\n",
    "|Estado Inicial:                                            | Estado Final:|\n",
    "|-----------------------------------------------------------|--------------|\n",
    "|- Sistema $a$ en condiciones atmosféricas y  émbolo a $L_0$| Se suelta el émbolo y se deja llegar al equilibrio termodinámico a los sistema $a$ y $h$|\n",
    "|- Globo a $\\phi_{h1}$                                      | El proceso es rápido. Se deja suficiente tiempo  hasta el atemperamiento de todos los sistemas|\n",
    "Se pide obtener:\n",
    "1. Propiedades termodinámicas que resuelven el estado inicial de ambos sistemas\n",
    "2. Condición de flotabilidad del globo en función de la masa del émbolo $m_e$"
   ]
  },
  {
   "cell_type": "markdown",
   "metadata": {},
   "source": [
    "### **Primer Paso:** Conversión de los datos a Sistema Internacional y obtención de las constantes básicas\n",
    "En primer lugar, se calculan las constantes de los gases a partir de la constante universal y las masas moleculares. Todas las unidades se pasan a SI. Todas. Sin excepción!"
   ]
  },
  {
   "cell_type": "markdown",
   "metadata": {},
   "source": [
    "##### Obtención de las Constantes de los Gases"
   ]
  },
  {
   "cell_type": "code",
   "execution_count": 1,
   "metadata": {
    "collapsed": false
   },
   "outputs": [],
   "source": [
    "## Constantes de los Gases:\n",
    "# Masas moleculares\n",
    "M_O = 16 #g/mol  - Masa molecular del oxígeno\n",
    "M_N = 14 #g/mol  - Masa molecular del nitrógeno\n",
    "M_H = 1 #g/mol  - Masa molecular del hidrógeno\n",
    "\n",
    "M_a = 0.78*2*M_N + 0.22*2*M_O #masa molecular del aire en g/mol\n",
    "M_h = 2*M_H #masa molecular del sistema hidrógeno (diatómico) en g/mol\n",
    "\n",
    "# Constante de los Gases\n",
    "R_u = 8.3114 #J/mol/K  - Constante universal de los gases\n",
    "R_a = R_u/M_a * 1000 #J/kg/K\n",
    "R_h = R_u/M_h * 1000 #J/kg/K"
   ]
  },
  {
   "cell_type": "markdown",
   "metadata": {},
   "source": [
    "##### Ley Elástica y Condiciones Iniciales del Globo\n"
   ]
  },
  {
   "cell_type": "code",
   "execution_count": 2,
   "metadata": {
    "collapsed": true
   },
   "outputs": [],
   "source": [
    "import numpy as np"
   ]
  },
  {
   "cell_type": "code",
   "execution_count": 3,
   "metadata": {
    "collapsed": true
   },
   "outputs": [],
   "source": [
    "#Ley elástica del globo\n",
    "mmHg2Pa = 101325/760 #conversión de mmHg a Pa\n",
    "K = 15*mmHg2Pa*100 #constante elástica en Pa/m\n",
    "phi_h0 = 0.05 #diámetro mínimo en m"
   ]
  },
  {
   "cell_type": "code",
   "execution_count": 4,
   "metadata": {
    "collapsed": true
   },
   "outputs": [],
   "source": [
    "def delta_p(phi_h):\n",
    "    if phi_h<=phi_h0:\n",
    "        return 0\n",
    "    else:\n",
    "        return K*(phi_h - phi_h0)"
   ]
  },
  {
   "cell_type": "code",
   "execution_count": 5,
   "metadata": {
    "collapsed": false
   },
   "outputs": [],
   "source": [
    "#Obtención del volumen inicial del globo:\n",
    "phi_h1 = 0.15 #diámetro inicial del globo en metros\n",
    "V_h1 = np.pi/6*(phi_h1**3) # Volumen inicial del sistema de hidrógeno (globo) en m3\n",
    "\n",
    "#Masa del globo\n",
    "m_g = 0.002 #kg\n",
    "    \n",
    "#Condiciones Ambiente:\n",
    "T_inf = 15 + 273.15 #Temperatura ambiente en K\n",
    "P_inf = 1e5 #Presión ambiente en Pa\n",
    "\n",
    "#Aceleración de la gravedad:\n",
    "grav = 9.8 #m/s2"
   ]
  },
  {
   "cell_type": "markdown",
   "metadata": {},
   "source": [
    "##### Obtención de las ligaduras Geométricas"
   ]
  },
  {
   "cell_type": "code",
   "execution_count": 6,
   "metadata": {
    "collapsed": true
   },
   "outputs": [],
   "source": [
    "#Condiciones geométricas del problema:\n",
    "L1 = 0.3 # distancia inicial entre émbolo y base del cilindro en metros\n",
    "phi_c = 0.2  #diámetro del cilindro\n",
    "\n",
    "#Obtención del Volumen inicial del aire\n",
    "V_a1 = L1*np.pi/4*phi_c**2 - V_h1#Volumen incial del sistema aire en m3"
   ]
  },
  {
   "cell_type": "markdown",
   "metadata": {},
   "source": [
    "### Segundo Paso: Resolución del Estado Termodinámico inicial a ambos sistemas"
   ]
  },
  {
   "cell_type": "markdown",
   "metadata": {},
   "source": [
    "##### Sistema $a$\n",
    "El cilindro es perfectamente diatérmano y el proceso se puede considerar cuasiestático, con lo que la temperatura se mantendrá siempre constante e igual al valor de la temperatura ambiente (ejerce de baño térmico): el proceso del sistema $a$ es **Isotermo**.\n",
    "Además, el estado inicial se adquiere llenando el cilindro de aire atmósférico y tapándolo con el émbolo sin dejaro caer. La presión será, por tanto, la del ambiente, y el volumen el máximo posible (émbolo a distancia $L_0$ de la base del cilindro)."
   ]
  },
  {
   "cell_type": "code",
   "execution_count": 7,
   "metadata": {
    "collapsed": false
   },
   "outputs": [
    {
     "name": "stdout",
     "output_type": "stream",
     "text": [
      "Masa del Sistema Aire: 0.00923kg\n"
     ]
    }
   ],
   "source": [
    "import eq_state \n",
    "## Sistema Aire en Estado Inicial (1):\n",
    "# Se considera estado de equilibrio. Como las fronteras son diatérmanas:\n",
    "T_a1 = T_inf\n",
    "\n",
    "# Como está en condiciones atmosféricas:\n",
    "P_a1 = P_inf\n",
    "\n",
    "#Como el volumen es conocido por ligaduras geométricas, la ecuación de estado nos da la masa:\n",
    "m_a = eq_state.solve_m(R=R_a, P=P_inf, T=T_inf, V=V_a1)\n",
    "rho_a1 = m_a/V_a1 #densidad del aire en 1\n",
    "print('Masa del Sistema Aire: {0:1.5f}kg'.format(m_a))"
   ]
  },
  {
   "cell_type": "markdown",
   "metadata": {},
   "source": [
    "##### Sistema $h$\n",
    "El sistema del hidrógeno se resuelve de manera análoga al sistema de aire: la temperatura $T_{h_1}$ es directa al estar $a$ y $h$ atemperados. La presión del sistema se puede calcular a través de la ley elástica del globo, y ésta a su vez se obtiene con el diámetro (inicialmente $\\phi_{h_1}$ es dato, con lo que se tiene también el volumen del globo)."
   ]
  },
  {
   "cell_type": "code",
   "execution_count": 8,
   "metadata": {
    "collapsed": false
   },
   "outputs": [
    {
     "name": "stdout",
     "output_type": "stream",
     "text": [
      "Masa de 1.77086e-04kg y presión de 119998Pa en el Sistema Hidrógeno\n"
     ]
    }
   ],
   "source": [
    "## Sistema Hidrógeno en Estado Inicial (1):\n",
    "#Como es diatérmano:\n",
    "T_h1 = T_inf\n",
    "\n",
    "#La presión se puede obtener mediante balance de fuerzas y la sobrepresión debida al globo:\n",
    "P_h1 = P_a1 + delta_p(phi_h1)\n",
    "\n",
    "#Con la presión,la temperatura y el volumen (debido al diámetro):\n",
    "m_h = eq_state.solve_m(R=R_h, P=P_h1, T=T_h1, V=V_h1)\n",
    "print('Masa de {0:1.5e}kg y presión de {1:6.0f}Pa en el Sistema Hidrógeno'.format(m_h, P_h1))"
   ]
  },
  {
   "cell_type": "markdown",
   "metadata": {},
   "source": [
    "### Tercer Paso: Condición de Flotabilidad\n",
    "La condición de flotabilidad depende de igualar el peso del peso del globo (incluyendo la masa de la goma elástica) al peso que tendría la masa de aire que ocupase su lugar: $$E=P$$ Donde: $$E=\\rho_{a_1}·V_{h_1}·g$$ $$ P=(m_h + m_g)·g$$ La densidad del aire se obtiene de la ecuación de estado: $$P=\\rho ·R_g ·T$$Por tanto:"
   ]
  },
  {
   "cell_type": "code",
   "execution_count": 9,
   "metadata": {
    "collapsed": false
   },
   "outputs": [
    {
     "name": "stdout",
     "output_type": "stream",
     "text": [
      "Empuje neto sobre el globo: -0.00045N\n"
     ]
    }
   ],
   "source": [
    "##Condición de Flotabilidad:\n",
    "# Peso total del Sistema Hidrógeno y Globo:\n",
    "P = (m_h + m_g)*grav\n",
    "\n",
    "#Empuje del aire sobre h+g:\n",
    "E = rho_a1*V_h1*grav\n",
    "\n",
    "print('Empuje neto sobre el globo: {0:4.5f}N'.format(E-P))"
   ]
  },
  {
   "cell_type": "markdown",
   "metadata": {},
   "source": [
    "Para obtener la condición de flotabilidad hay que igualar el peso al empuje $E=P$. Como el peso del sistema hidrógeno + globo es **constante**, la densidad del aire será el elemento que regule la flotabilidad del globo. La densidad del aire a su vez depende de la **presión del aire** a través de la ecuación de estado, y la presión del sistema aire se obtiene por **balance de fuerzas en el émbolo**. Por lo tanto:"
   ]
  },
  {
   "cell_type": "markdown",
   "metadata": {},
   "source": [
    "#### Balance de Fuerzas al Émbolo (Ec. 1)\n",
    "$$P_{a_2} = P_\\infty + m_e·\\frac{g}{A_c}$$"
   ]
  },
  {
   "cell_type": "markdown",
   "metadata": {},
   "source": [
    "#### Balance de Fuerzas al Globo (Ec. 2)\n",
    "$$P_{h_2} = P_{a_2} + K·(\\phi_{h_2} - \\phi_{h_0})$$"
   ]
  },
  {
   "cell_type": "markdown",
   "metadata": {},
   "source": [
    "#### Ecuación de Estado al Hidrógeno (Ec. 3)\n",
    "$$P_{h_2}·V_{h_2}=m_h·R_h·T_{h_2}$$"
   ]
  },
  {
   "cell_type": "markdown",
   "metadata": {},
   "source": [
    "#### Flotabilidad (Ec. 4)\n",
    "$$\\frac{P_{a_2}}{R_a·T_{a_2}}·\\frac{\\pi}{6}·\\phi³_{h_2}·g = (m_h + m_g)·g$$"
   ]
  },
  {
   "cell_type": "markdown",
   "metadata": {},
   "source": [
    "Para resolver la masa del émbolo que hace que el globo flote ($E=P$), sustituiremos las ecuaciones **1 y 2** en  **3** y asumiremos una masa inicial del émbolo. El resultado del volumen del sistema de hidrógeno debe cumplir la ecuación **4**.\n",
    "De esta forma, si la diferencia entre la presión de la **Ec. 1** y la de la **Ec. 4** es pequeña $(\\approx 10^{-6})$."
   ]
  },
  {
   "cell_type": "markdown",
   "metadata": {
    "collapsed": false
   },
   "source": [
    "#### Iterando para resolver $m_e$"
   ]
  },
  {
   "cell_type": "code",
   "execution_count": 10,
   "metadata": {
    "collapsed": false
   },
   "outputs": [
    {
     "name": "stdout",
     "output_type": "stream",
     "text": [
      "Masa del émbolo que resuelve la condición de flotabilidad: 33.00kg\n",
      "La condición de presiones es P_h2=129547Pa; P_a2=110294Pa\n"
     ]
    }
   ],
   "source": [
    "residual = 1\n",
    "m_e = 5\n",
    "while residual>1e-6:\n",
    "    m_e += 0.2\n",
    "    P_a2 = P_inf + m_e*grav/(np.pi/4*phi_c**2)\n",
    "    phi_h2 = ((m_h + m_g)/(P_a2/R_a/T_inf)*6/np.pi)**(1/3)\n",
    "    \n",
    "    P_h2 = eq_state.solve_P(R=R_h, V=np.pi/6*phi_h2**3, m=m_h, T=T_inf)\n",
    "    residual = (P_a2 + K*(phi_h2 - phi_h0) - P_h2)/P_h2\n",
    "print('Masa del émbolo que resuelve la condición de flotabilidad: {0:4.2f}kg'.format(m_e))\n",
    "print('La condición de presiones es P_h2={0:6.0f}Pa; P_a2={1:6.0f}Pa'.format(P_h2, P_a2))"
   ]
  },
  {
   "cell_type": "markdown",
   "metadata": {},
   "source": [
    "#### Resolviendo el Sistema de manera interactiva:\n",
    "La siguiente función resuelve el sistema de cuatro ecuaciones anterior para cada valor de masa $m_e$ que seleccionemos con el deslizador. "
   ]
  },
  {
   "cell_type": "code",
   "execution_count": 11,
   "metadata": {
    "collapsed": true
   },
   "outputs": [],
   "source": [
    "%matplotlib inline\n",
    "from ipywidgets import interact\n",
    "import matplotlib.pyplot as plt\n",
    "from matplotlib import patches"
   ]
  },
  {
   "cell_type": "code",
   "execution_count": 12,
   "metadata": {
    "collapsed": true
   },
   "outputs": [],
   "source": [
    "m_a = P_a1*V_a1/R_a/T_a1"
   ]
  },
  {
   "cell_type": "code",
   "execution_count": 13,
   "metadata": {
    "collapsed": false
   },
   "outputs": [],
   "source": [
    "def embolo(m_e3):\n",
    "    \n",
    "    P_a3 = P_inf + m_e3*grav/(np.pi/4*phi_c**2)\n",
    "    V_a3 = eq_state.solve_V(R=R_a, m=m_a, P=P_a3, T=T_inf)\n",
    "    \n",
    "    V_h3 = (m_h + m_g)/(P_a2/R_a/T_inf)\n",
    "    \n",
    "    L = (V_a3 + V_h3)/(np.pi/4*phi_c**2)\n",
    "    \n",
    "    P_h3 = P_a3 + K*((V_h3/np.pi*6)**(1/3)-phi_h0)\n",
    "    \n",
    "    width = phi_c/2\n",
    "    piston_height = 0.3\n",
    "    emb_heigth = 0.01\n",
    "    R = phi_c/2\n",
    "\n",
    "    embolo_down = patches.Rectangle((0, 0), width, L, alpha=1-L)\n",
    "    embolo_up = patches.Rectangle((0, L), width, piston_height-L, alpha=0.1)\n",
    "    piston = patches.Rectangle((0, L), width, emb_heigth, color='black')\n",
    "\n",
    "    # piston = patches.Rectangle(0, x), \n",
    "    fig, ax = plt.subplots(1, 2)\n",
    "    ax[0].add_patch(embolo_down)\n",
    "    ax[0].add_patch(embolo_up)\n",
    "    ax[0].add_patch(piston)\n",
    "        \n",
    "    L_ = np.linspace(0, 1, 100)\n",
    "    volume_ = L_*np.pi*R**2\n",
    "    \n",
    "    ax[1].plot(L_, volume_)\n",
    "    ax[1].plot(L, L  * np.pi * R**2, 'ro')\n",
    "    \n",
    "    print('Presión del aire: {0:6.0f}Pa'.format(P_a3))\n",
    "    print('Presión del hidrógeno: {0:6.0f}Pa'.format(P_h3))"
   ]
  },
  {
   "cell_type": "code",
   "execution_count": 14,
   "metadata": {
    "collapsed": false
   },
   "outputs": [
    {
     "name": "stdout",
     "output_type": "stream",
     "text": [
      "Presión del aire: 107895Pa\n",
      "Presión del hidrógeno: 127138Pa\n"
     ]
    },
    {
     "data": {
      "image/png": "[encoded data removed]",
      "text/plain": [
       "<matplotlib.figure.Figure at 0x7f325690f1d0>"
      ]
     },
     "metadata": {},
     "output_type": "display_data"
    }
   ],
   "source": [
    "interact(embolo, m_e3=(0.01, 300))"
   ]
  }
 ],
 "metadata": {
  "anaconda-cloud": {},
  "kernelspec": {
   "display_name": "Python [default]",
   "language": "python",
   "name": "python3"
  },
  "language_info": {
   "codemirror_mode": {
    "name": "ipython",
    "version": 3
   },
   "file_extension": ".py",
   "mimetype": "text/x-python",
   "name": "python",
   "nbconvert_exporter": "python",
   "pygments_lexer": "ipython3",
   "version": "3.5.2"
  },
  "widgets": {
   "state": {
    "3735c0d77f374ccaa667d1df3c6628df": {
     "views": [
      {
       "cell_index": 33
      }
     ]
    }
   },
   "version": "1.2.0"
  }
 },
 "nbformat": 4,
 "nbformat_minor": 1
}
